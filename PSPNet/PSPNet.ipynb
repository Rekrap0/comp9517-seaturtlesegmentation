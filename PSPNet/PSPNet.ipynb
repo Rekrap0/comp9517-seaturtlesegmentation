{
 "cells": [
  {
   "cell_type": "code",
   "execution_count": 1,
   "id": "f63bd27a-8ba8-4ab6-85b3-12575585f030",
   "metadata": {},
   "outputs": [],
   "source": [
    "import os"
   ]
  },
  {
   "cell_type": "code",
   "execution_count": 2,
   "id": "b7ea4c77-d681-4329-a068-f907ab16d452",
   "metadata": {},
   "outputs": [],
   "source": [
    "os.chdir(\"..\")"
   ]
  },
  {
   "cell_type": "code",
   "execution_count": 5,
   "id": "04228782-a69d-45ec-9d89-45cbade594d8",
   "metadata": {},
   "outputs": [
    {
     "data": {
      "text/plain": [
       "<nt.ScandirIterator at 0x210e0fd2ca0>"
      ]
     },
     "execution_count": 5,
     "metadata": {},
     "output_type": "execute_result"
    }
   ],
   "source": [
    "os.mkdir('checkpoint')\n",
    "os.mkdir('outputs')\n",
    "os.mkdir('data')\n",
    "os.mkdir('图表')\n",
    "os.mkdir('Zihao-Configs')"
   ]
  }
 ],
 "metadata": {
  "kernelspec": {
   "display_name": "Python 3 (ipykernel)",
   "language": "python",
   "name": "python3"
  },
  "language_info": {
   "codemirror_mode": {
    "name": "ipython",
    "version": 3
   },
   "file_extension": ".py",
   "mimetype": "text/x-python",
   "name": "python",
   "nbconvert_exporter": "python",
   "pygments_lexer": "ipython3",
   "version": "3.10.4"
  }
 },
 "nbformat": 4,
 "nbformat_minor": 5
}
